{
  "nbformat": 4,
  "nbformat_minor": 0,
  "metadata": {
    "colab": {
      "provenance": [],
      "gpuType": "A100",
      "machine_shape": "hm"
    },
    "kernelspec": {
      "name": "python3",
      "display_name": "Python 3"
    },
    "language_info": {
      "name": "python"
    },
    "accelerator": "GPU"
  },
  "cells": [
    {
      "cell_type": "code",
      "execution_count": 1,
      "metadata": {
        "colab": {
          "base_uri": "https://localhost:8080/"
        },
        "id": "GTvqgVcAXWDd",
        "outputId": "e373ebc8-bdec-4470-fbf6-6b457c9dc766"
      },
      "outputs": [
        {
          "output_type": "stream",
          "name": "stdout",
          "text": [
            "Mounted at /content/drive\n"
          ]
        }
      ],
      "source": [
        "from google.colab import drive\n",
        "drive.mount('/content/drive')"
      ]
    },
    {
      "cell_type": "code",
      "source": [
        "cd /content/drive/MyDrive/facial-age-estimation/"
      ],
      "metadata": {
        "colab": {
          "base_uri": "https://localhost:8080/"
        },
        "id": "prXJQVQjom0A",
        "outputId": "0234d920-4cee-46fa-d3b4-0b7938ef0e90"
      },
      "execution_count": 2,
      "outputs": [
        {
          "output_type": "stream",
          "name": "stdout",
          "text": [
            "/content/drive/MyDrive/facial-age-estimation\n"
          ]
        }
      ]
    },
    {
      "cell_type": "code",
      "source": [
        "import sys\n",
        "sys.path.append('/content/drive/MyDrive/facial-age-estimation/src')"
      ],
      "metadata": {
        "id": "N5uBJwNCIPHF"
      },
      "execution_count": 3,
      "outputs": []
    },
    {
      "cell_type": "code",
      "source": [
        "ls"
      ],
      "metadata": {
        "colab": {
          "base_uri": "https://localhost:8080/"
        },
        "id": "TCWZlGb0XahD",
        "outputId": "34996da4-2287-4736-ab7c-63471f2a5c69"
      },
      "execution_count": 4,
      "outputs": [
        {
          "output_type": "stream",
          "name": "stdout",
          "text": [
            "\u001b[0m\u001b[01;34mdata\u001b[0m/  README.txt  requirements.txt  \u001b[01;34msrc\u001b[0m/  \u001b[01;34mweights\u001b[0m/\n"
          ]
        }
      ]
    },
    {
      "cell_type": "code",
      "source": [
        "import torch\n",
        "import torch.nn as nn\n",
        "import torch.optim as optim\n",
        "import math\n",
        "from torch.utils.data import DataLoader, TensorDataset\n",
        "from torch.nn.modules.utils import _triple\n",
        "\n",
        "from models.r21d_mini import MiniR2Plus1D\n",
        "from evaluation.evaluate_vcop import evaluate_vcop_all\n",
        "from models.vcop_head import VCOPN\n",
        "from config import VCOPConfig\n",
        "from train.train_vcop import train_vcop"
      ],
      "metadata": {
        "id": "zhQkNoO2XqcC"
      },
      "execution_count": 5,
      "outputs": []
    },
    {
      "cell_type": "code",
      "source": [
        "ls"
      ],
      "metadata": {
        "colab": {
          "base_uri": "https://localhost:8080/"
        },
        "id": "AEtEsRH2Wwdf",
        "outputId": "ebd66dca-ad2c-40c9-9aaf-47393292b642"
      },
      "execution_count": 6,
      "outputs": [
        {
          "output_type": "stream",
          "name": "stdout",
          "text": [
            "\u001b[0m\u001b[01;34mdata\u001b[0m/  README.txt  requirements.txt  \u001b[01;34msrc\u001b[0m/  \u001b[01;34mweights\u001b[0m/\n"
          ]
        }
      ]
    },
    {
      "cell_type": "code",
      "source": [
        "config = VCOPConfig()\n",
        "X_train = torch.load(config.train_X_path)\n",
        "y_train = torch.load(config.train_y_path)\n",
        "X_val = torch.load(config.val_X_path)\n",
        "y_val = torch.load(config.val_y_path)\n",
        "X_test = torch.load(config.test_X_path)\n",
        "y_test = torch.load(config.test_y_path)"
      ],
      "metadata": {
        "id": "3zkIugzsXbPW"
      },
      "execution_count": 7,
      "outputs": []
    },
    {
      "cell_type": "code",
      "source": [
        "import itertools\n",
        "config.num_epochs = 50\n",
        "tuple_len = 4\n",
        "all_perms = list(itertools.permutations(range(tuple_len)))  # 길이 4의 순열\n",
        "model = train_vcop(X_train, y_train, X_val, y_val, config,all_perms)"
      ],
      "metadata": {
        "id": "73bOVGmKO2JV",
        "colab": {
          "base_uri": "https://localhost:8080/"
        },
        "outputId": "8403c06c-c72c-45d7-a601-7024ed2f35af"
      },
      "execution_count": null,
      "outputs": [
        {
          "output_type": "stream",
          "name": "stdout",
          "text": [
            "[Epoch 1] 🏋️ Train Loss: 1.8906, Acc: 0.0598 | 🔍 Val Loss: 1.9805, Acc: 0.0552\n",
            "✅ 모델 저장됨: vcop_mini.pth\n",
            "[Epoch 2] 🏋️ Train Loss: 1.7757, Acc: 0.0958 | 🔍 Val Loss: 1.8264, Acc: 0.0946\n",
            "✅ 모델 저장됨: vcop_mini.pth\n",
            "[Epoch 3] 🏋️ Train Loss: 1.6478, Acc: 0.1546 | 🔍 Val Loss: 1.7744, Acc: 0.1036\n",
            "✅ 모델 저장됨: vcop_mini.pth\n",
            "[Epoch 4] 🏋️ Train Loss: 1.5593, Acc: 0.1959 | 🔍 Val Loss: 1.6528, Acc: 0.1622\n",
            "✅ 모델 저장됨: vcop_mini.pth\n",
            "[Epoch 5] 🏋️ Train Loss: 1.4975, Acc: 0.2112 | 🔍 Val Loss: 1.8166, Acc: 0.1419\n",
            "[Epoch 6] 🏋️ Train Loss: 1.4359, Acc: 0.2393 | 🔍 Val Loss: 1.7353, Acc: 0.1273\n",
            "[Epoch 7] 🏋️ Train Loss: 1.3920, Acc: 0.2584 | 🔍 Val Loss: 1.6355, Acc: 0.2050\n",
            "✅ 모델 저장됨: vcop_mini.pth\n",
            "[Epoch 8] 🏋️ Train Loss: 1.3339, Acc: 0.2820 | 🔍 Val Loss: 1.8354, Acc: 0.1532\n",
            "[Epoch 9] 🏋️ Train Loss: 1.2850, Acc: 0.2990 | 🔍 Val Loss: 1.8729, Acc: 0.1509\n",
            "[Epoch 10] 🏋️ Train Loss: 1.2305, Acc: 0.3326 | 🔍 Val Loss: 1.6694, Acc: 0.1858\n",
            "[Epoch 11] 🏋️ Train Loss: 1.1896, Acc: 0.3472 | 🔍 Val Loss: 1.6199, Acc: 0.2207\n",
            "✅ 모델 저장됨: vcop_mini.pth\n",
            "[Epoch 12] 🏋️ Train Loss: 1.1747, Acc: 0.3571 | 🔍 Val Loss: 1.5297, Acc: 0.2725\n",
            "✅ 모델 저장됨: vcop_mini.pth\n",
            "[Epoch 13] 🏋️ Train Loss: 1.1347, Acc: 0.3632 | 🔍 Val Loss: 1.4458, Acc: 0.2545\n",
            "✅ 모델 저장됨: vcop_mini.pth\n",
            "[Epoch 14] 🏋️ Train Loss: 1.0467, Acc: 0.4142 | 🔍 Val Loss: 2.0774, Acc: 0.1914\n",
            "[Epoch 15] 🏋️ Train Loss: 1.0665, Acc: 0.4042 | 🔍 Val Loss: 1.6786, Acc: 0.1971\n",
            "[Epoch 16] 🏋️ Train Loss: 1.0119, Acc: 0.4385 | 🔍 Val Loss: 2.1594, Acc: 0.1599\n",
            "[Epoch 17] 🏋️ Train Loss: 0.9474, Acc: 0.4773 | 🔍 Val Loss: 1.6771, Acc: 0.2196\n",
            "[Epoch 18] 🏋️ Train Loss: 0.9415, Acc: 0.4743 | 🔍 Val Loss: 2.3383, Acc: 0.1577\n",
            "🛑 Early stopping triggered!\n"
          ]
        }
      ]
    },
    {
      "cell_type": "code",
      "source": [
        "device = torch.device(\"cuda\" if torch.cuda.is_available() else \"cpu\")\n",
        "base = MiniR2Plus1D()\n",
        "best_model = VCOPN(base_network=base, feature_size=config.feature_size, tuple_len=config.tuple_len).to(device)\n",
        "best_model.load_state_dict(torch.load(f\"{config.save_dir}/{config.model_name}\"))\n",
        "results = evaluate_vcop_all(best_model, X_test, y_test, config)"
      ],
      "metadata": {
        "colab": {
          "base_uri": "https://localhost:8080/",
          "height": 631
        },
        "id": "aYgZAuQZGVVL",
        "outputId": "0e215357-4aab-4612-a70d-fa79d26ce6ba"
      },
      "execution_count": 8,
      "outputs": [
        {
          "output_type": "stream",
          "name": "stdout",
          "text": [
            "\n",
            "🧪 [VCOP 평가 결과]\n",
            "✅ Top-1 정확도        : 0.1974\n",
            "✅ Top-3 정확도     : 0.4814\n",
            "📐 평균 Kendall's Tau : 0.4207\n",
            "📐 평균 Spearman Rho  : 0.4923\n",
            "🎯 완전 일치 비율     : 0.1974\n"
          ]
        },
        {
          "output_type": "display_data",
          "data": {
            "text/plain": [
              "<Figure size 800x500 with 1 Axes>"
            ],
            "image/png": "[encoded data removed]"
          },
          "metadata": {}
        }
      ]
    },
    {
      "cell_type": "code",
      "source": [],
      "metadata": {
        "id": "D27GvpXIIZdF"
      },
      "execution_count": null,
      "outputs": []
    }
  ]
}