{
  "cells": [
    {
      "cell_type": "code",
      "execution_count": 1,
      "metadata": {
        "colab": {
          "base_uri": "https://localhost:8080/"
        },
        "id": "htSHA6hsDuIx",
        "outputId": "57e46937-5631-4126-9e36-7eeb8588bcdd"
      },
      "outputs": [
        {
          "output_type": "stream",
          "name": "stdout",
          "text": [
            "Mounted at /content/drive\n",
            "/content/drive/MyDrive/facial-age-estimation\n"
          ]
        }
      ],
      "source": [
        "from google.colab import drive\n",
        "drive.mount('/content/drive')\n",
        "%cd /content/drive/MyDrive/facial-age-estimation/"
      ]
    },
    {
      "cell_type": "code",
      "execution_count": 2,
      "metadata": {
        "id": "lDNssUhil2Hl"
      },
      "outputs": [],
      "source": [
        "import sys\n",
        "sys.path.append('/content/drive/MyDrive/facial-age-estimation/src')"
      ]
    },
    {
      "cell_type": "code",
      "execution_count": 3,
      "metadata": {
        "colab": {
          "base_uri": "https://localhost:8080/"
        },
        "id": "2ROteossPRkH",
        "outputId": "f808985d-63fa-4047-de63-55aa764cd397"
      },
      "outputs": [
        {
          "output_type": "stream",
          "name": "stdout",
          "text": [
            "\u001b[0m\u001b[01;34mdata\u001b[0m/  README.txt  requirements.txt  \u001b[01;34msrc\u001b[0m/  \u001b[01;34mweights\u001b[0m/\n"
          ]
        }
      ],
      "source": [
        "ls"
      ]
    },
    {
      "cell_type": "code",
      "execution_count": 4,
      "metadata": {
        "id": "l0UJLMKw7EPM"
      },
      "outputs": [],
      "source": [
        "import torch\n",
        "import torch.nn as nn\n",
        "from torch.utils.data import DataLoader, TensorDataset\n",
        "import numpy as np\n",
        "import os\n",
        "from train.train_downstream import train_downstream\n",
        "from evaluation.evaluate_downstream import evaluate_downstream\n",
        "from config import AgeRegConfig\n",
        "from models.vcop_head import VCOPN  # VCOP 모델 정의\n",
        "from models.r21d_mini import MiniR2Plus1D  # encoder 정의"
      ]
    },
    {
      "cell_type": "code",
      "execution_count": 5,
      "metadata": {
        "colab": {
          "base_uri": "https://localhost:8080/"
        },
        "id": "kaFW6erA7aAF",
        "outputId": "0e751836-f8ff-4c69-8fb5-39c5e226b865"
      },
      "outputs": [
        {
          "output_type": "stream",
          "name": "stdout",
          "text": [
            "5\n"
          ]
        }
      ],
      "source": [
        "config = AgeRegConfig()\n",
        "config.batch_size = 32\n",
        "config.use_cuda = True\n",
        "print(config.patience)"
      ]
    },
    {
      "cell_type": "code",
      "execution_count": 6,
      "metadata": {
        "id": "YrGPsTVf7ito"
      },
      "outputs": [],
      "source": [
        "X_train = torch.load(config.train_X_path)\n",
        "y_train = torch.load(config.train_y_path)\n",
        "X_val = torch.load(config.val_X_path)\n",
        "y_val = torch.load(config.val_y_path)\n",
        "X_test = torch.load(config.test_X_path)\n",
        "y_test = torch.load(config.test_y_path)"
      ]
    },
    {
      "cell_type": "code",
      "source": [
        "torch.cuda.empty_cache()"
      ],
      "metadata": {
        "id": "q7471rI0v9Gw"
      },
      "execution_count": 7,
      "outputs": []
    },
    {
      "cell_type": "code",
      "execution_count": 9,
      "metadata": {
        "colab": {
          "base_uri": "https://localhost:8080/"
        },
        "id": "flUfvGSomhuf",
        "outputId": "71c8ece4-d507-4419-d56d-ace49f174a0c"
      },
      "outputs": [
        {
          "output_type": "stream",
          "name": "stdout",
          "text": [
            "[Epoch 1] Train Loss: 285.7113 | Val Loss: 354.3361\n",
            "⏳ Warmup Epoch 1/5 - Early stopping 판단 보류\n",
            "[Epoch 2] Train Loss: 191.3842 | Val Loss: 259.8487\n",
            "⏳ Warmup Epoch 2/5 - Early stopping 판단 보류\n",
            "[Epoch 3] Train Loss: 176.8632 | Val Loss: 333.9447\n",
            "⏳ Warmup Epoch 3/5 - Early stopping 판단 보류\n",
            "[Epoch 4] Train Loss: 168.1160 | Val Loss: 745.7001\n",
            "⏳ Warmup Epoch 4/5 - Early stopping 판단 보류\n",
            "[Epoch 5] Train Loss: 164.8063 | Val Loss: 304.6156\n",
            "⏳ Warmup Epoch 5/5 - Early stopping 판단 보류\n",
            "[Epoch 6] Train Loss: 160.7988 | Val Loss: 269.3142\n",
            "✅ 모델 저장됨: age_regression.pth\n",
            "[Epoch 7] Train Loss: 155.3462 | Val Loss: 271.5889\n",
            "[Epoch 8] Train Loss: 154.2442 | Val Loss: 265.6236\n",
            "✅ 모델 저장됨: age_regression.pth\n",
            "[Epoch 9] Train Loss: 151.9379 | Val Loss: 281.0302\n",
            "[Epoch 10] Train Loss: 147.7649 | Val Loss: 261.9858\n",
            "✅ 모델 저장됨: age_regression.pth\n",
            "[Epoch 11] Train Loss: 148.5834 | Val Loss: 294.5140\n",
            "[Epoch 12] Train Loss: 147.7693 | Val Loss: 284.8013\n",
            "[Epoch 13] Train Loss: 142.4369 | Val Loss: 275.1251\n",
            "[Epoch 14] Train Loss: 143.3949 | Val Loss: 266.1545\n",
            "[Epoch 15] Train Loss: 142.1862 | Val Loss: 288.3546\n",
            "🛑 Early Stopping\n"
          ]
        }
      ],
      "source": [
        "model = train_downstream(X_train, y_train, X_val, y_val, config)"
      ]
    },
    {
      "cell_type": "code",
      "execution_count": 10,
      "metadata": {
        "id": "S4Dhm3J90uuv",
        "colab": {
          "base_uri": "https://localhost:8080/",
          "height": 596
        },
        "outputId": "79a10608-206d-45ac-c195-4e7ac32f5d3c"
      },
      "outputs": [
        {
          "output_type": "stream",
          "name": "stdout",
          "text": [
            "✅ 모델 가중치 로드됨: ./src/weights/age_regression.pth\n",
            "📊 [Age Regression Evaluation]\n",
            "   MAE:  16.25\n",
            "   MSE:  416.05\n",
            "   RMSE: 20.40\n"
          ]
        },
        {
          "output_type": "display_data",
          "data": {
            "text/plain": [
              "<Figure size 1000x500 with 1 Axes>"
            ],
            "image/png": "[encoded data removed]"
          },
          "metadata": {}
        }
      ],
      "source": [
        "# 필요 모듈 import\n",
        "import torch\n",
        "from models.age_regressor import AgeRegressor\n",
        "from models.r21d_mini import MiniR2Plus1D\n",
        "\n",
        "# 디바이스 설정\n",
        "device = torch.device(\"cuda\" if config.use_cuda and torch.cuda.is_available() else \"cpu\")\n",
        "\n",
        "# 모델 구성\n",
        "base_encoder = MiniR2Plus1D()  # VCOP 사전학습된 구조와 동일하게\n",
        "model = AgeRegressor(encoder=base_encoder, feature_dim=config.feature_size).to(device)\n",
        "\n",
        "# ✅ 가중치 로드\n",
        "model_path = config.model_path\n",
        "model.load_state_dict(torch.load(model_path, map_location=device))\n",
        "print(f\"✅ 모델 가중치 로드됨: {model_path}\")\n",
        "\n",
        "# 평가 실행\n",
        "evaluate_downstream(model, X_test, y_test, config)"
      ]
    },
    {
      "cell_type": "code",
      "source": [
        "!pwd"
      ],
      "metadata": {
        "id": "pnYxQ5DjO_GS"
      },
      "execution_count": null,
      "outputs": []
    },
    {
      "cell_type": "code",
      "source": [],
      "metadata": {
        "id": "kemuTcnGReVR"
      },
      "execution_count": null,
      "outputs": []
    }
  ],
  "metadata": {
    "accelerator": "GPU",
    "colab": {
      "gpuType": "A100",
      "machine_shape": "hm",
      "provenance": []
    },
    "kernelspec": {
      "display_name": "Python 3",
      "name": "python3"
    },
    "language_info": {
      "name": "python"
    }
  },
  "nbformat": 4,
  "nbformat_minor": 0
}