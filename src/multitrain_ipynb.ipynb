{
  "cells": [
    {
      "cell_type": "code",
      "execution_count": 2,
      "metadata": {
        "colab": {
          "base_uri": "https://localhost:8080/"
        },
        "id": "EfA6tySvZtMw",
        "outputId": "5e257093-91bb-4be7-85fe-4b3869a73a1d"
      },
      "outputs": [
        {
          "output_type": "stream",
          "name": "stdout",
          "text": [
            "Mounted at /content/drive\n",
            "/content/drive/MyDrive/facial-age-estimation\n"
          ]
        }
      ],
      "source": [
        "from google.colab import drive\n",
        "drive.mount('/content/drive')\n",
        "%cd /content/drive/MyDrive/facial-age-estimation/\n",
        "\n",
        "import sys\n",
        "sys.path.append('/content/drive/MyDrive/facial-age-estimation/src')\n"
      ]
    },
    {
      "cell_type": "code",
      "execution_count": null,
      "metadata": {
        "colab": {
          "base_uri": "https://localhost:8080/"
        },
        "id": "a7Wvb6lIZw13",
        "outputId": "673ee74e-4958-4437-e2fa-8b1c43219ac7"
      },
      "outputs": [
        {
          "output_type": "stream",
          "name": "stdout",
          "text": [
            "\u001b[0m\u001b[01;34mdata\u001b[0m/  README.txt  requirements.txt  \u001b[01;34msrc\u001b[0m/  \u001b[01;34mweights\u001b[0m/\n"
          ]
        }
      ],
      "source": [
        "ls"
      ]
    },
    {
      "cell_type": "code",
      "execution_count": 3,
      "metadata": {
        "colab": {
          "base_uri": "https://localhost:8080/"
        },
        "id": "bfAtj5J1Zxm5",
        "outputId": "2dcbc579-380d-432c-d608-0f3233e560e4"
      },
      "outputs": [
        {
          "output_type": "stream",
          "name": "stdout",
          "text": [
            "/content/drive/MyDrive/facial-age-estimation\n"
          ]
        }
      ],
      "source": [
        "%cd /content/drive/MyDrive/facial-age-estimation/"
      ]
    },
    {
      "cell_type": "code",
      "source": [
        "import os\n",
        "import torch\n",
        "import numpy as np\n",
        "import matplotlib.pyplot as plt\n",
        "import torchvision.transforms as T\n",
        "\n",
        "from torch.utils.data import DataLoader\n",
        "from sklearn.metrics import mean_absolute_error, mean_squared_error\n",
        "from evaluation.evaluate_multitrain import evaluate_multitrain\n",
        "# 커스텀 모델 및 데이터셋 모듈\n",
        "from models.age_regressor import AgeRegressor\n",
        "from models.base_model import AgeEstimationModel\n",
        "from models.r21d_mini import MiniR2Plus1D\n",
        "from train.train_multitrain import AugmentedAgeDataset, SimpleImageDataset"
      ],
      "metadata": {
        "id": "pFfm8XABpuBF"
      },
      "execution_count": 4,
      "outputs": []
    },
    {
      "cell_type": "code",
      "execution_count": null,
      "metadata": {
        "id": "5-KVd6MFspve"
      },
      "outputs": [],
      "source": [
        "\n",
        "import os\n",
        "import torch\n",
        "import torch.nn as nn\n",
        "import torch.optim as optim\n",
        "from torch.utils.data import Dataset, DataLoader\n",
        "import torchvision.transforms as T\n",
        "from torch.optim.lr_scheduler import CosineAnnealingLR\n",
        "from sklearn.metrics import mean_absolute_error\n",
        "\n",
        "from models.r21d_mini import MiniR2Plus1D\n",
        "from models.vcop_head import VCOPN\n",
        "from models.age_regressor import AgeRegressor\n",
        "from models.base_model import AgeEstimationModel\n",
        "from train.train_multitrain import train_multitrain"
      ]
    },
    {
      "cell_type": "code",
      "execution_count": null,
      "metadata": {
        "id": "0BedyM8zZ429"
      },
      "outputs": [],
      "source": [
        "from config import AgeRegConfigMulti\n",
        "from config import TestEvalConfig\n",
        "config_dict = TestEvalConfig()\n",
        "config = AgeRegConfigMulti()"
      ]
    },
    {
      "cell_type": "code",
      "execution_count": null,
      "metadata": {
        "id": "8wE1rk0RZ7OJ"
      },
      "outputs": [],
      "source": [
        "X_train = torch.load(config.train_X_path)\n",
        "y_train = torch.load(config.train_y_path)\n",
        "X_val = torch.load(config.val_X_path)\n",
        "y_val = torch.load(config.val_y_path)"
      ]
    },
    {
      "cell_type": "code",
      "execution_count": null,
      "metadata": {
        "id": "5ohkEHOoc5-T",
        "colab": {
          "base_uri": "https://localhost:8080/"
        },
        "outputId": "fec98c2f-5bc2-4839-f9b2-dc91773cf546"
      },
      "outputs": [
        {
          "output_type": "stream",
          "name": "stdout",
          "text": [
            "/content/drive/.shortcut-targets-by-id/1bvtrfzyZHNtEdmd4PS68jmpGT2RO5sOZ/facial-age-estimation/src\n"
          ]
        }
      ],
      "source": [
        "%cd /content/drive/MyDrive/facial-age-estimation/src/"
      ]
    },
    {
      "cell_type": "code",
      "execution_count": null,
      "metadata": {
        "id": "f3vzo_d_i4t_"
      },
      "outputs": [],
      "source": [
        "torch.cuda.empty_cache()"
      ]
    },
    {
      "cell_type": "code",
      "execution_count": null,
      "metadata": {
        "id": "6w1Rzh9G5Bnd"
      },
      "outputs": [],
      "source": [
        "config_dict.batch_size = 16\n",
        "config.batch_size = 16"
      ]
    },
    {
      "cell_type": "code",
      "execution_count": null,
      "metadata": {
        "id": "0UzPcmzWZ88T",
        "colab": {
          "base_uri": "https://localhost:8080/"
        },
        "outputId": "9004b9b2-cfd9-469c-cec3-50720fbc4431"
      },
      "outputs": [
        {
          "output_type": "stream",
          "name": "stdout",
          "text": [
            "[Epoch 1] Loss: 80285.5924 | Val MAE: 11.4429\n",
            "✅ Best model saved at epoch 1 (MAE=11.443)\n",
            "[Epoch 2] Loss: 48797.6198 | Val MAE: 11.7734\n",
            "[Epoch 3] Loss: 38318.8585 | Val MAE: 11.7190\n",
            "[Epoch 4] Loss: 35085.5490 | Val MAE: 11.3016\n",
            "✅ Best model saved at epoch 4 (MAE=11.302)\n",
            "[Epoch 5] Loss: 32485.6761 | Val MAE: 15.0563\n",
            "[Epoch 6] Loss: 29594.4049 | Val MAE: 12.8449\n",
            "[Epoch 7] Loss: 27633.6678 | Val MAE: 12.6403\n",
            "[Epoch 8] Loss: 25947.0544 | Val MAE: 13.5087\n",
            "[Epoch 9] Loss: 24147.0872 | Val MAE: 14.3957\n",
            "🛑 Early stopping triggered.\n"
          ]
        }
      ],
      "source": [
        "model = train_multitrain(X_train, y_train, X_val, y_val,config, config_dict)"
      ]
    },
    {
      "cell_type": "code",
      "source": [
        "from config import AgeRegConfigMulti, TestEvalConfig\n",
        "import torch\n",
        "\n",
        "# 1. 설정 클래스 인스턴스 생성\n",
        "config = AgeRegConfigMulti()\n",
        "config_dict = TestEvalConfig()\n",
        "\n",
        "config_dict.save_dir = './src/weights/multi_checkpoint'\n",
        "config_dict.save_name = 'multitrain'\n",
        "\n",
        "# 2. 검증 데이터 불러오기\n",
        "X_test = torch.load(config.test_X_path)\n",
        "y_test = torch.load(config.test_y_path)\n",
        "\n",
        "# 3. 평가 실행\n",
        "evaluate_multitrain(X_test, y_test, config, config_dict)"
      ],
      "metadata": {
        "id": "fkLrsGzFXwJv",
        "colab": {
          "base_uri": "https://localhost:8080/",
          "height": 596
        },
        "outputId": "c31adcf5-d2c6-413b-86ab-4799cd19724e"
      },
      "execution_count": 5,
      "outputs": [
        {
          "output_type": "stream",
          "name": "stdout",
          "text": [
            "[Age Regression Evaluation]\n",
            "MAE: 10.72\n",
            "MSE: 198.00\n",
            "RMSE: 14.07\n"
          ]
        },
        {
          "output_type": "display_data",
          "data": {
            "text/plain": [
              "<Figure size 1000x500 with 1 Axes>"
            ],
            "image/png": "[encoded data removed]"
          },
          "metadata": {}
        },
        {
          "output_type": "execute_result",
          "data": {
            "text/plain": [
              "10.724222183227539"
            ]
          },
          "metadata": {},
          "execution_count": 5
        }
      ]
    },
    {
      "cell_type": "code",
      "source": [],
      "metadata": {
        "id": "rG762dubp3SL"
      },
      "execution_count": null,
      "outputs": []
    }
  ],
  "metadata": {
    "accelerator": "GPU",
    "colab": {
      "gpuType": "A100",
      "machine_shape": "hm",
      "provenance": []
    },
    "kernelspec": {
      "display_name": "Python 3",
      "name": "python3"
    },
    "language_info": {
      "name": "python"
    }
  },
  "nbformat": 4,
  "nbformat_minor": 0
}